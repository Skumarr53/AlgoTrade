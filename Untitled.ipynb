{
 "cells": [
  {
   "cell_type": "code",
   "execution_count": 11,
   "id": "c3f1c2c3",
   "metadata": {},
   "outputs": [
    {
     "data": {
      "text/html": [
       "<style>.container { width:100% !important; }</style>"
      ],
      "text/plain": [
       "<IPython.core.display.HTML object>"
      ]
     },
     "metadata": {},
     "output_type": "display_data"
    }
   ],
   "source": [
    "from IPython.display import display, HTML\n",
    "display(HTML(\"<style>.container { width:100% !important; }</style>\"))"
   ]
  },
  {
   "cell_type": "code",
   "execution_count": 9,
   "id": "a2f3fc99",
   "metadata": {},
   "outputs": [
    {
     "data": {
      "text/plain": [
       "Index(['symbol', 'total_buy_qty', 'total_sell_qty', 'open', 'high', 'low',\n",
       "       'close', 'change_percent', 'tick_size', 'change', 'last_traded_qty',\n",
       "       'last_traded_time', 'last_traded_price', 'volume',\n",
       "       'average_traded_price', 'lower_circuit', 'upper_circuit', 'expiry',\n",
       "       'open_interest', 'open_interest_flag', 'previous_day_open_interest',\n",
       "       'open_interest_percent', 'weighted_bid_price', 'total_bid_volume',\n",
       "       'weighted_ask_price', 'total_ask_volume', 'spread',\n",
       "       'buy_sell_pressure_ratio', 'intraday_price_range',\n",
       "       'price_movement_open_close'],\n",
       "      dtype='object')"
      ]
     },
     "execution_count": 9,
     "metadata": {},
     "output_type": "execute_result"
    }
   ],
   "source": [
    "dataframe.columns"
   ]
  },
  {
   "cell_type": "code",
   "execution_count": 7,
   "id": "495a1f01",
   "metadata": {},
   "outputs": [
    {
     "name": "stdout",
     "output_type": "stream",
     "text": [
      "File loaded successfully!\n"
     ]
    }
   ],
   "source": [
    "import pandas as pd\n",
    "import tabulate\n",
    "from IPython.display import display\n",
    "pd.set_option('display.max_colwidth', None)\n",
    "\n",
    "def load_parquet_file(file_path):\n",
    "    try:\n",
    "        df = pd.read_parquet(file_path)\n",
    "        print(\"File loaded successfully!\")\n",
    "        return df\n",
    "    except Exception as e:\n",
    "        print(f\"Error loading file: {e}\")\n",
    "        return None\n",
    "\n",
    "# Path to the Parquet file\n",
    "file_path = 'backups/SBIN_order_book.parquet'\n",
    "\n",
    "# Load the file\n",
    "dataframe = load_parquet_file(file_path)\n",
    "\n"
   ]
  },
  {
   "cell_type": "code",
   "execution_count": 10,
   "id": "73a75155",
   "metadata": {},
   "outputs": [
    {
     "name": "stdout",
     "output_type": "stream",
     "text": [
      "|    | symbol   |   total_buy_qty |   total_sell_qty |   open |   high |    low |   close |   change_percent |   tick_size |   change |   last_traded_qty | last_traded_time    |   last_traded_price |   volume |   average_traded_price |   lower_circuit |   upper_circuit | expiry   |   open_interest | open_interest_flag   |   previous_day_open_interest |   open_interest_percent |\n",
      "|---:|:---------|----------------:|-----------------:|-------:|-------:|-------:|--------:|-----------------:|------------:|---------:|------------------:|:--------------------|--------------------:|---------:|-----------------------:|----------------:|----------------:|:---------|----------------:|:---------------------|-----------------------------:|------------------------:|\n",
      "|  0 | SBIN     |         1157016 |          2324141 |  647.1 |  654.8 | 638.75 |  649.65 |            -0.17 |        0.05 |    -1.1  |                 7 | 2024-02-05 11:55:58 |              648.55 | 17590263 |                 647.55 |           584.7 |           714.6 |          |               0 | False                |                            0 |                       0 |\n",
      "|  1 | SBIN     |         1165559 |          2331398 |  647.1 |  654.8 | 638.75 |  649.65 |            -0.17 |        0.05 |    -1.1  |                63 | 2024-02-05 11:56:59 |              648.55 | 17618736 |                 647.55 |           584.7 |           714.6 |          |               0 | False                |                            0 |                       0 |\n",
      "|  2 | SBIN     |         1168637 |          2330937 |  647.1 |  654.8 | 638.75 |  649.65 |            -0.15 |        0.05 |    -0.95 |                 5 | 2024-02-05 11:57:59 |              648.7  | 17644272 |                 647.55 |           584.7 |           714.6 |          |               0 | False                |                            0 |                       0 |\n",
      "|  3 | SBIN     |         1165543 |          2332745 |  647.1 |  654.8 | 638.75 |  649.65 |            -0.11 |        0.05 |    -0.7  |                44 | 2024-02-05 11:59:00 |              648.95 | 17673830 |                 647.55 |           584.7 |           714.6 |          |               0 | False                |                            0 |                       0 |\n",
      "|  4 | SBIN     |         1152582 |          2363821 |  647.1 |  654.8 | 638.75 |  649.65 |            -0.38 |        0.05 |    -2.45 |                 1 | 2024-02-05 12:30:59 |              647.2  | 18450231 |                 647.58 |           584.7 |           714.6 |          |               0 | False                |                            0 |                       0 |\n",
      "|  5 | SBIN     |         1157985 |          2369609 |  647.1 |  654.8 | 638.75 |  649.65 |            -0.35 |        0.05 |    -2.3  |                 2 | 2024-02-05 12:31:59 |              647.35 | 18517597 |                 647.57 |           584.7 |           714.6 |          |               0 | False                |                            0 |                       0 |\n",
      "|  6 | SBIN     |         1160719 |          2380126 |  647.1 |  654.8 | 638.75 |  649.65 |            -0.38 |        0.05 |    -2.5  |                 1 | 2024-02-05 12:32:59 |              647.15 | 18527770 |                 647.57 |           584.7 |           714.6 |          |               0 | False                |                            0 |                       0 |\n",
      "|  7 | SBIN     |         1142450 |          2384061 |  647.1 |  654.8 | 638.75 |  649.65 |            -0.42 |        0.05 |    -2.7  |                 2 | 2024-02-05 12:33:59 |              646.95 | 18541014 |                 647.57 |           584.7 |           714.6 |          |               0 | False                |                            0 |                       0 |\n",
      "|  8 | SBIN     |         1150039 |          2372149 |  647.1 |  654.8 | 638.75 |  649.65 |            -0.42 |        0.05 |    -2.7  |                20 | 2024-02-05 12:35:00 |              646.95 | 18576657 |                 647.57 |           584.7 |           714.6 |          |               0 | False                |                            0 |                       0 |\n",
      "|  9 | SBIN     |         1152478 |          2388576 |  647.1 |  654.8 | 638.75 |  649.65 |            -0.41 |        0.05 |    -2.65 |                 1 | 2024-02-05 12:37:07 |              647    | 18607868 |                 647.57 |           584.7 |           714.6 |          |               0 | False                |                            0 |                       0 |\n"
     ]
    }
   ],
   "source": [
    "print(dataframe[['symbol', 'total_buy_qty', 'total_sell_qty', 'open', 'high', 'low',\n",
    "       'close', 'change_percent', 'tick_size', 'change', 'last_traded_qty',\n",
    "       'last_traded_time', 'last_traded_price', 'volume',\n",
    "       'average_traded_price', 'lower_circuit', 'upper_circuit', 'expiry',\n",
    "       'open_interest', 'open_interest_flag', 'previous_day_open_interest',\n",
    "       'open_interest_percent']].head(10).to_markdown())"
   ]
  },
  {
   "cell_type": "code",
   "execution_count": 3,
   "id": "f3e29b8e",
   "metadata": {},
   "outputs": [
    {
     "data": {
      "text/plain": [
       "count                            18474\n",
       "mean     2023-07-12 04:09:56.882104576\n",
       "min                2023-01-10 12:45:00\n",
       "25%                2023-04-13 10:06:15\n",
       "50%                2023-07-12 13:32:30\n",
       "75%                2023-10-11 10:03:45\n",
       "max                2024-01-10 12:40:00\n",
       "Name: date, dtype: object"
      ]
     },
     "execution_count": 3,
     "metadata": {},
     "output_type": "execute_result"
    }
   ],
   "source": [
    "dataframe.date.describe()"
   ]
  },
  {
   "cell_type": "code",
   "execution_count": 4,
   "id": "65d4e9cf",
   "metadata": {},
   "outputs": [
    {
     "data": {
      "text/plain": [
       "256.5833333333333"
      ]
     },
     "execution_count": 4,
     "metadata": {},
     "output_type": "execute_result"
    }
   ],
   "source": [
    "18474/72"
   ]
  },
  {
   "cell_type": "code",
   "execution_count": 5,
   "id": "554e0ff7",
   "metadata": {},
   "outputs": [
    {
     "data": {
      "text/plain": [
       "109"
      ]
     },
     "execution_count": 5,
     "metadata": {},
     "output_type": "execute_result"
    }
   ],
   "source": [
    "365-256"
   ]
  },
  {
   "cell_type": "code",
   "execution_count": 7,
   "id": "1519db21",
   "metadata": {},
   "outputs": [
    {
     "data": {
      "text/plain": [
       "5"
      ]
     },
     "execution_count": 7,
     "metadata": {},
     "output_type": "execute_result"
    }
   ],
   "source": [
    "109-52*2"
   ]
  },
  {
   "cell_type": "code",
   "execution_count": null,
   "id": "5751efbc",
   "metadata": {},
   "outputs": [],
   "source": [
    "epoch_time\topen\thigh\tlow\tclose\tvolume\tdate\n",
    "1\t1676016000\t553.80\t554.00\t553.10\t553.10\t138062\t2023-02-10 13:30:00\n",
    "2\t1676016300\t553.10\t553.80\t553.00\t553.60\t137965\t2023-02-10 13:35:00\n",
    "3\t1676016600\t553.65\t554.40\t553.50\t554.10\t121786\t2023-02-10 13:40:00\n",
    "4\t1676016900\t554.10\t554.80\t553.85\t553.95\t179912\t2023-02-10 13:45:00\n",
    "5\t1676017200\t553.95\t554.15\t553.75\t553.85\t115485\t2023-02-10 13:50:00\n",
    "6\t1676017500\t553.85\t554.35\t553.70\t553.75\t103660\t2023-02-10 13:55:00\n",
    "7\t1676017800\t553.75\t554.20\t553.70\t554.15\t124363\t2023-02-10 14:00:00\n",
    "8\t1676018100\t554.20\t554.70\t554.05\t554.40\t139209\t2023-02-10 14:05:00\n",
    "9\t1676018400\t554.35\t554.50\t553.75\t553.75\t130991\t2023-02-10 14:10:00\n",
    "10\t1676018700\t553.80\t554.00\t553.15\t553.45\t118511\t2023-02-10 14:15:00"
   ]
  }
 ],
 "metadata": {
  "kernelspec": {
   "display_name": "algotrade",
   "language": "python",
   "name": "algotrade"
  },
  "language_info": {
   "codemirror_mode": {
    "name": "ipython",
    "version": 3
   },
   "file_extension": ".py",
   "mimetype": "text/x-python",
   "name": "python",
   "nbconvert_exporter": "python",
   "pygments_lexer": "ipython3",
   "version": "3.8.0"
  },
  "toc": {
   "base_numbering": 1,
   "nav_menu": {},
   "number_sections": true,
   "sideBar": true,
   "skip_h1_title": false,
   "title_cell": "Table of Contents",
   "title_sidebar": "Contents",
   "toc_cell": false,
   "toc_position": {},
   "toc_section_display": true,
   "toc_window_display": false
  }
 },
 "nbformat": 4,
 "nbformat_minor": 5
}
